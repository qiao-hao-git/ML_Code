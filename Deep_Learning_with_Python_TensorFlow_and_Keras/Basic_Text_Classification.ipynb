{
  "nbformat": 4,
  "nbformat_minor": 0,
  "metadata": {
    "colab": {
      "provenance": [],
      "authorship_tag": "ABX9TyNkGdMSJ36A61cgr6iLYsje",
      "include_colab_link": true
    },
    "kernelspec": {
      "name": "python3",
      "display_name": "Python 3"
    },
    "language_info": {
      "name": "python"
    }
  },
  "cells": [
    {
      "cell_type": "markdown",
      "metadata": {
        "id": "view-in-github",
        "colab_type": "text"
      },
      "source": [
        "<a href=\"https://colab.research.google.com/github/qiao-hao-git/ML_Code/blob/main/Deep_Learning_with_Python_TensorFlow_and_Keras/Basic_Text_Classification.ipynb\" target=\"_parent\"><img src=\"https://colab.research.google.com/assets/colab-badge.svg\" alt=\"Open In Colab\"/></a>"
      ]
    },
    {
      "cell_type": "code",
      "execution_count": 28,
      "metadata": {
        "colab": {
          "base_uri": "https://localhost:8080/"
        },
        "id": "c_k3R7paBLob",
        "outputId": "73cac977-c08b-43b4-de72-653306640912"
      },
      "outputs": [
        {
          "output_type": "stream",
          "name": "stdout",
          "text": [
            "2.12.0\n"
          ]
        }
      ],
      "source": [
        "import tensorflow as tf\n",
        "from tensorflow import keras\n",
        "import numpy as np\n",
        "print(tf.__version__)"
      ]
    },
    {
      "cell_type": "markdown",
      "source": [
        "下载IMDB数据集"
      ],
      "metadata": {
        "id": "VucZi_Q3CpFz"
      }
    },
    {
      "cell_type": "code",
      "source": [
        "imdb = keras.datasets.imdb\n",
        "\n",
        "(train_data, train_labels), (test_data, test_labels) = imdb.load_data(num_words=10000)"
      ],
      "metadata": {
        "id": "605MaVPWCkJZ"
      },
      "execution_count": 52,
      "outputs": []
    },
    {
      "cell_type": "markdown",
      "source": [
        "探索数据"
      ],
      "metadata": {
        "id": "sDk9tQg0DE_2"
      }
    },
    {
      "cell_type": "code",
      "source": [
        "print(\"Training entries:{},labels:{}\".format(len(train_data),len(train_labels)))"
      ],
      "metadata": {
        "colab": {
          "base_uri": "https://localhost:8080/"
        },
        "id": "7xYFdpjdC8VP",
        "outputId": "e745995d-fa54-44b3-95a6-2af25be51025"
      },
      "execution_count": 30,
      "outputs": [
        {
          "output_type": "stream",
          "name": "stdout",
          "text": [
            "Training entries:25000,labels:25000\n"
          ]
        }
      ]
    },
    {
      "cell_type": "code",
      "source": [
        "print(train_data[0])"
      ],
      "metadata": {
        "colab": {
          "base_uri": "https://localhost:8080/"
        },
        "id": "bBua9PpTDSAS",
        "outputId": "7a42ccb3-14af-4820-9fce-7087b016f696"
      },
      "execution_count": 31,
      "outputs": [
        {
          "output_type": "stream",
          "name": "stdout",
          "text": [
            "[1, 14, 22, 16, 43, 530, 973, 1622, 1385, 65, 458, 4468, 66, 3941, 4, 173, 36, 256, 5, 25, 100, 43, 838, 112, 50, 670, 2, 9, 35, 480, 284, 5, 150, 4, 172, 112, 167, 2, 336, 385, 39, 4, 172, 4536, 1111, 17, 546, 38, 13, 447, 4, 192, 50, 16, 6, 147, 2025, 19, 14, 22, 4, 1920, 4613, 469, 4, 22, 71, 87, 12, 16, 43, 530, 38, 76, 15, 13, 1247, 4, 22, 17, 515, 17, 12, 16, 626, 18, 2, 5, 62, 386, 12, 8, 316, 8, 106, 5, 4, 2223, 5244, 16, 480, 66, 3785, 33, 4, 130, 12, 16, 38, 619, 5, 25, 124, 51, 36, 135, 48, 25, 1415, 33, 6, 22, 12, 215, 28, 77, 52, 5, 14, 407, 16, 82, 2, 8, 4, 107, 117, 5952, 15, 256, 4, 2, 7, 3766, 5, 723, 36, 71, 43, 530, 476, 26, 400, 317, 46, 7, 4, 2, 1029, 13, 104, 88, 4, 381, 15, 297, 98, 32, 2071, 56, 26, 141, 6, 194, 7486, 18, 4, 226, 22, 21, 134, 476, 26, 480, 5, 144, 30, 5535, 18, 51, 36, 28, 224, 92, 25, 104, 4, 226, 65, 16, 38, 1334, 88, 12, 16, 283, 5, 16, 4472, 113, 103, 32, 15, 16, 5345, 19, 178, 32]\n"
          ]
        }
      ]
    },
    {
      "cell_type": "code",
      "source": [
        "print(len(train_data[0]),len(train_data[1]))"
      ],
      "metadata": {
        "colab": {
          "base_uri": "https://localhost:8080/"
        },
        "id": "xXkAbcvADZ--",
        "outputId": "40a23e31-ea60-48b0-cb7a-98641bce8c53"
      },
      "execution_count": 32,
      "outputs": [
        {
          "output_type": "stream",
          "name": "stdout",
          "text": [
            "218 189\n"
          ]
        }
      ]
    },
    {
      "cell_type": "markdown",
      "source": [
        "将整数转换回单词"
      ],
      "metadata": {
        "id": "sPnpz4iDDiwm"
      }
    },
    {
      "cell_type": "code",
      "source": [
        "# 一个映射单词到整数索引的词典\n",
        "word_index = imdb.get_word_index()\n",
        "\n",
        "# 保留第一个索引\n",
        "word_index = {k:(v+3) for k,v in word_index.items()}\n",
        "word_index[\"<PAD>\"] = 0\n",
        "word_index[\"<START>\"] = 1\n",
        "word_index[\"<UNK>\"] = 2  # unknown\n",
        "word_index[\"<UNUSED>\"] = 3\n",
        "\n",
        "reverse_word_index = dict([(value, key) for (key, value) in word_index.items()])\n",
        "\n",
        "def decode_review(text):\n",
        "    return ' '.join([reverse_word_index.get(i, '?') for i in text])"
      ],
      "metadata": {
        "id": "TuVZGurIDfEt"
      },
      "execution_count": 53,
      "outputs": []
    },
    {
      "cell_type": "code",
      "source": [
        "print(decode_review(train_data[0]))"
      ],
      "metadata": {
        "colab": {
          "base_uri": "https://localhost:8080/"
        },
        "id": "CxGptJvUDrW2",
        "outputId": "f9c74b9d-f223-45fe-b1ce-2e774b922ac2"
      },
      "execution_count": 34,
      "outputs": [
        {
          "output_type": "stream",
          "name": "stdout",
          "text": [
            "<START> this film was just brilliant casting location scenery story direction everyone's really suited the part they played and you could just imagine being there robert <UNK> is an amazing actor and now the same being director <UNK> father came from the same scottish island as myself so i loved the fact there was a real connection with this film the witty remarks throughout the film were great it was just brilliant so much that i bought the film as soon as it was released for <UNK> and would recommend it to everyone to watch and the fly fishing was amazing really cried at the end it was so sad and you know what they say if you cry at a film it must have been good and this definitely was also <UNK> to the two little boy's that played the <UNK> of norman and paul they were just brilliant children are often left out of the <UNK> list i think because the stars that play them all grown up are such a big profile for the whole film but these children are amazing and should be praised for what they have done don't you think the whole story was so lovely because it was true and was someone's life after all that was shared with us all\n"
          ]
        }
      ]
    },
    {
      "cell_type": "markdown",
      "source": [
        "准备数据"
      ],
      "metadata": {
        "id": "xYevklCFFkq9"
      }
    },
    {
      "cell_type": "code",
      "source": [
        "train_data = keras.preprocessing.sequence.pad_sequences(train_data,value=word_index[\"<PAD>\"],padding='post',maxlen=256)\n",
        "\n",
        "test_data = keras.preprocessing.sequence.pad_sequences(test_data,value=word_index[\"<PAD>\"],padding='post',maxlen=256)"
      ],
      "metadata": {
        "id": "_VcZD4tDE7L4"
      },
      "execution_count": 54,
      "outputs": []
    },
    {
      "cell_type": "code",
      "source": [
        "print(len(train_data[0]),len(train_data[1]))"
      ],
      "metadata": {
        "colab": {
          "base_uri": "https://localhost:8080/"
        },
        "id": "GlrXZHxUHXfl",
        "outputId": "e12216de-66b7-4946-a370-47ed78892173"
      },
      "execution_count": 36,
      "outputs": [
        {
          "output_type": "stream",
          "name": "stdout",
          "text": [
            "256 256\n"
          ]
        }
      ]
    },
    {
      "cell_type": "code",
      "source": [
        "print(train_data[0])"
      ],
      "metadata": {
        "colab": {
          "base_uri": "https://localhost:8080/"
        },
        "id": "fhfPqfRqHdY8",
        "outputId": "84b02a25-a454-4b53-9f2c-ef41a686a506"
      },
      "execution_count": 37,
      "outputs": [
        {
          "output_type": "stream",
          "name": "stdout",
          "text": [
            "[   1   14   22   16   43  530  973 1622 1385   65  458 4468   66 3941\n",
            "    4  173   36  256    5   25  100   43  838  112   50  670    2    9\n",
            "   35  480  284    5  150    4  172  112  167    2  336  385   39    4\n",
            "  172 4536 1111   17  546   38   13  447    4  192   50   16    6  147\n",
            " 2025   19   14   22    4 1920 4613  469    4   22   71   87   12   16\n",
            "   43  530   38   76   15   13 1247    4   22   17  515   17   12   16\n",
            "  626   18    2    5   62  386   12    8  316    8  106    5    4 2223\n",
            " 5244   16  480   66 3785   33    4  130   12   16   38  619    5   25\n",
            "  124   51   36  135   48   25 1415   33    6   22   12  215   28   77\n",
            "   52    5   14  407   16   82    2    8    4  107  117 5952   15  256\n",
            "    4    2    7 3766    5  723   36   71   43  530  476   26  400  317\n",
            "   46    7    4    2 1029   13  104   88    4  381   15  297   98   32\n",
            " 2071   56   26  141    6  194 7486   18    4  226   22   21  134  476\n",
            "   26  480    5  144   30 5535   18   51   36   28  224   92   25  104\n",
            "    4  226   65   16   38 1334   88   12   16  283    5   16 4472  113\n",
            "  103   32   15   16 5345   19  178   32    0    0    0    0    0    0\n",
            "    0    0    0    0    0    0    0    0    0    0    0    0    0    0\n",
            "    0    0    0    0    0    0    0    0    0    0    0    0    0    0\n",
            "    0    0    0    0]\n"
          ]
        }
      ]
    },
    {
      "cell_type": "markdown",
      "source": [
        "构建模型"
      ],
      "metadata": {
        "id": "uWruHxJbH6PR"
      }
    },
    {
      "cell_type": "code",
      "source": [
        "# 输入形状是用于电影评论的词汇数目（10,000 词）\n",
        "vocab_size = 10000\n",
        "\n",
        "model = keras.Sequential()\n",
        "model.add(keras.layers.Embedding(vocab_size, 16))\n",
        "model.add(keras.layers.GlobalAveragePooling1D())\n",
        "model.add(keras.layers.Dense(16, activation='relu'))\n",
        "model.add(keras.layers.Dense(1, activation='sigmoid'))\n",
        "\n",
        "model.summary()"
      ],
      "metadata": {
        "colab": {
          "base_uri": "https://localhost:8080/"
        },
        "id": "4gil2jr9H4eZ",
        "outputId": "f89c60bf-2d61-4ed8-879f-20498db5a872"
      },
      "execution_count": 55,
      "outputs": [
        {
          "output_type": "stream",
          "name": "stdout",
          "text": [
            "Model: \"sequential_4\"\n",
            "_________________________________________________________________\n",
            " Layer (type)                Output Shape              Param #   \n",
            "=================================================================\n",
            " embedding_4 (Embedding)     (None, None, 16)          160000    \n",
            "                                                                 \n",
            " global_average_pooling1d_4   (None, 16)               0         \n",
            " (GlobalAveragePooling1D)                                        \n",
            "                                                                 \n",
            " dense_5 (Dense)             (None, 16)                272       \n",
            "                                                                 \n",
            " dense_6 (Dense)             (None, 1)                 17        \n",
            "                                                                 \n",
            "=================================================================\n",
            "Total params: 160,289\n",
            "Trainable params: 160,289\n",
            "Non-trainable params: 0\n",
            "_________________________________________________________________\n"
          ]
        }
      ]
    },
    {
      "cell_type": "markdown",
      "source": [
        "编译模型"
      ],
      "metadata": {
        "id": "Vt1xbmOOJpK5"
      }
    },
    {
      "cell_type": "code",
      "source": [
        "model.compile(optimizer='adam',loss='binary_crossentropy',metrics=['accuracy'])"
      ],
      "metadata": {
        "id": "OggZ9nQ9IfYH"
      },
      "execution_count": 56,
      "outputs": []
    },
    {
      "cell_type": "markdown",
      "source": [
        "创建一个验证集"
      ],
      "metadata": {
        "id": "SWvEcRBwJ5oo"
      }
    },
    {
      "cell_type": "code",
      "source": [
        "x_val = train_data[:10000]\n",
        "partial_x_train = train_data[10000:]\n",
        "\n",
        "y_val = train_labels[:10000]\n",
        "partial_y_train = train_labels[10000:]"
      ],
      "metadata": {
        "id": "YA6dXIj7J4mR"
      },
      "execution_count": 57,
      "outputs": []
    },
    {
      "cell_type": "markdown",
      "source": [
        "训练模型"
      ],
      "metadata": {
        "id": "ZZm1geLvK0zU"
      }
    },
    {
      "cell_type": "code",
      "source": [
        "history = model.fit(partial_x_train,partial_y_train,epochs=40,batch_size=512,validation_data=(x_val, y_val),verbose=1)"
      ],
      "metadata": {
        "colab": {
          "base_uri": "https://localhost:8080/"
        },
        "id": "vJcA1QgiKz9H",
        "outputId": "14380b1e-a597-409d-c842-7e694dfc1a2a"
      },
      "execution_count": 58,
      "outputs": [
        {
          "output_type": "stream",
          "name": "stdout",
          "text": [
            "Epoch 1/40\n",
            "30/30 [==============================] - 2s 28ms/step - loss: 0.6917 - accuracy: 0.5845 - val_loss: 0.6896 - val_accuracy: 0.7021\n",
            "Epoch 2/40\n",
            "30/30 [==============================] - 1s 23ms/step - loss: 0.6857 - accuracy: 0.6941 - val_loss: 0.6812 - val_accuracy: 0.7495\n",
            "Epoch 3/40\n",
            "30/30 [==============================] - 1s 24ms/step - loss: 0.6721 - accuracy: 0.7611 - val_loss: 0.6637 - val_accuracy: 0.7322\n",
            "Epoch 4/40\n",
            "30/30 [==============================] - 1s 23ms/step - loss: 0.6487 - accuracy: 0.7721 - val_loss: 0.6375 - val_accuracy: 0.7583\n",
            "Epoch 5/40\n",
            "30/30 [==============================] - 1s 22ms/step - loss: 0.6154 - accuracy: 0.7879 - val_loss: 0.6024 - val_accuracy: 0.7644\n",
            "Epoch 6/40\n",
            "30/30 [==============================] - 1s 24ms/step - loss: 0.5733 - accuracy: 0.8130 - val_loss: 0.5617 - val_accuracy: 0.7835\n",
            "Epoch 7/40\n",
            "30/30 [==============================] - 1s 23ms/step - loss: 0.5261 - accuracy: 0.8309 - val_loss: 0.5178 - val_accuracy: 0.8179\n",
            "Epoch 8/40\n",
            "30/30 [==============================] - 1s 38ms/step - loss: 0.4782 - accuracy: 0.8512 - val_loss: 0.4762 - val_accuracy: 0.8353\n",
            "Epoch 9/40\n",
            "30/30 [==============================] - 1s 35ms/step - loss: 0.4339 - accuracy: 0.8655 - val_loss: 0.4400 - val_accuracy: 0.8447\n",
            "Epoch 10/40\n",
            "30/30 [==============================] - 1s 30ms/step - loss: 0.3951 - accuracy: 0.8755 - val_loss: 0.4087 - val_accuracy: 0.8545\n",
            "Epoch 11/40\n",
            "30/30 [==============================] - 1s 34ms/step - loss: 0.3623 - accuracy: 0.8832 - val_loss: 0.3845 - val_accuracy: 0.8587\n",
            "Epoch 12/40\n",
            "30/30 [==============================] - 1s 23ms/step - loss: 0.3345 - accuracy: 0.8912 - val_loss: 0.3636 - val_accuracy: 0.8656\n",
            "Epoch 13/40\n",
            "30/30 [==============================] - 1s 23ms/step - loss: 0.3109 - accuracy: 0.8971 - val_loss: 0.3478 - val_accuracy: 0.8684\n",
            "Epoch 14/40\n",
            "30/30 [==============================] - 1s 26ms/step - loss: 0.2911 - accuracy: 0.9021 - val_loss: 0.3346 - val_accuracy: 0.8728\n",
            "Epoch 15/40\n",
            "30/30 [==============================] - 1s 27ms/step - loss: 0.2734 - accuracy: 0.9076 - val_loss: 0.3242 - val_accuracy: 0.8752\n",
            "Epoch 16/40\n",
            "30/30 [==============================] - 1s 32ms/step - loss: 0.2578 - accuracy: 0.9123 - val_loss: 0.3155 - val_accuracy: 0.8776\n",
            "Epoch 17/40\n",
            "30/30 [==============================] - 1s 23ms/step - loss: 0.2441 - accuracy: 0.9182 - val_loss: 0.3091 - val_accuracy: 0.8779\n",
            "Epoch 18/40\n",
            "30/30 [==============================] - 1s 25ms/step - loss: 0.2321 - accuracy: 0.9209 - val_loss: 0.3041 - val_accuracy: 0.8800\n",
            "Epoch 19/40\n",
            "30/30 [==============================] - 1s 23ms/step - loss: 0.2209 - accuracy: 0.9255 - val_loss: 0.2982 - val_accuracy: 0.8820\n",
            "Epoch 20/40\n",
            "30/30 [==============================] - 1s 24ms/step - loss: 0.2101 - accuracy: 0.9293 - val_loss: 0.2951 - val_accuracy: 0.8830\n",
            "Epoch 21/40\n",
            "30/30 [==============================] - 1s 24ms/step - loss: 0.2004 - accuracy: 0.9328 - val_loss: 0.2910 - val_accuracy: 0.8835\n",
            "Epoch 22/40\n",
            "30/30 [==============================] - 1s 22ms/step - loss: 0.1915 - accuracy: 0.9365 - val_loss: 0.2888 - val_accuracy: 0.8842\n",
            "Epoch 23/40\n",
            "30/30 [==============================] - 1s 32ms/step - loss: 0.1832 - accuracy: 0.9401 - val_loss: 0.2869 - val_accuracy: 0.8842\n",
            "Epoch 24/40\n",
            "30/30 [==============================] - 1s 36ms/step - loss: 0.1759 - accuracy: 0.9425 - val_loss: 0.2859 - val_accuracy: 0.8850\n",
            "Epoch 25/40\n",
            "30/30 [==============================] - 1s 36ms/step - loss: 0.1680 - accuracy: 0.9467 - val_loss: 0.2851 - val_accuracy: 0.8845\n",
            "Epoch 26/40\n",
            "30/30 [==============================] - 1s 24ms/step - loss: 0.1611 - accuracy: 0.9499 - val_loss: 0.2846 - val_accuracy: 0.8853\n",
            "Epoch 27/40\n",
            "30/30 [==============================] - 1s 22ms/step - loss: 0.1547 - accuracy: 0.9523 - val_loss: 0.2845 - val_accuracy: 0.8856\n",
            "Epoch 28/40\n",
            "30/30 [==============================] - 1s 22ms/step - loss: 0.1484 - accuracy: 0.9547 - val_loss: 0.2852 - val_accuracy: 0.8849\n",
            "Epoch 29/40\n",
            "30/30 [==============================] - 1s 22ms/step - loss: 0.1425 - accuracy: 0.9574 - val_loss: 0.2863 - val_accuracy: 0.8870\n",
            "Epoch 30/40\n",
            "30/30 [==============================] - 1s 24ms/step - loss: 0.1375 - accuracy: 0.9579 - val_loss: 0.2877 - val_accuracy: 0.8851\n",
            "Epoch 31/40\n",
            "30/30 [==============================] - 1s 24ms/step - loss: 0.1316 - accuracy: 0.9620 - val_loss: 0.2881 - val_accuracy: 0.8863\n",
            "Epoch 32/40\n",
            "30/30 [==============================] - 1s 24ms/step - loss: 0.1267 - accuracy: 0.9637 - val_loss: 0.2895 - val_accuracy: 0.8861\n",
            "Epoch 33/40\n",
            "30/30 [==============================] - 1s 24ms/step - loss: 0.1217 - accuracy: 0.9658 - val_loss: 0.2914 - val_accuracy: 0.8864\n",
            "Epoch 34/40\n",
            "30/30 [==============================] - 1s 24ms/step - loss: 0.1174 - accuracy: 0.9673 - val_loss: 0.2939 - val_accuracy: 0.8858\n",
            "Epoch 35/40\n",
            "30/30 [==============================] - 1s 24ms/step - loss: 0.1130 - accuracy: 0.9696 - val_loss: 0.2960 - val_accuracy: 0.8850\n",
            "Epoch 36/40\n",
            "30/30 [==============================] - 1s 23ms/step - loss: 0.1089 - accuracy: 0.9707 - val_loss: 0.2980 - val_accuracy: 0.8841\n",
            "Epoch 37/40\n",
            "30/30 [==============================] - 1s 24ms/step - loss: 0.1046 - accuracy: 0.9714 - val_loss: 0.3004 - val_accuracy: 0.8837\n",
            "Epoch 38/40\n",
            "30/30 [==============================] - 1s 24ms/step - loss: 0.1006 - accuracy: 0.9730 - val_loss: 0.3030 - val_accuracy: 0.8835\n",
            "Epoch 39/40\n",
            "30/30 [==============================] - 1s 23ms/step - loss: 0.0971 - accuracy: 0.9745 - val_loss: 0.3059 - val_accuracy: 0.8831\n",
            "Epoch 40/40\n",
            "30/30 [==============================] - 1s 39ms/step - loss: 0.0937 - accuracy: 0.9760 - val_loss: 0.3091 - val_accuracy: 0.8830\n"
          ]
        }
      ]
    },
    {
      "cell_type": "markdown",
      "source": [
        "评估模型"
      ],
      "metadata": {
        "id": "D3hnx8WpLLdt"
      }
    },
    {
      "cell_type": "code",
      "source": [
        "results = model.evaluate(test_data,test_labels, verbose=2)\n",
        "\n",
        "print(results)"
      ],
      "metadata": {
        "colab": {
          "base_uri": "https://localhost:8080/"
        },
        "id": "IyhpcX7GLKH2",
        "outputId": "d5edc7cd-d224-4c46-a5d6-d383870110d8"
      },
      "execution_count": 59,
      "outputs": [
        {
          "output_type": "stream",
          "name": "stdout",
          "text": [
            "782/782 - 1s - loss: 0.3288 - accuracy: 0.8729 - 1s/epoch - 2ms/step\n",
            "[0.3287952244281769, 0.8729199767112732]\n"
          ]
        }
      ]
    },
    {
      "cell_type": "markdown",
      "source": [
        "创建一个准确率和损失值随时间变化图表"
      ],
      "metadata": {
        "id": "TfY9TG1qLb49"
      }
    },
    {
      "cell_type": "code",
      "source": [
        "history_dict = history.history\n",
        "history_dict.keys()"
      ],
      "metadata": {
        "colab": {
          "base_uri": "https://localhost:8080/"
        },
        "id": "vmWKEM2RLXuJ",
        "outputId": "53fd5e42-3047-40f1-bf35-8f3db8da10d1"
      },
      "execution_count": 60,
      "outputs": [
        {
          "output_type": "execute_result",
          "data": {
            "text/plain": [
              "dict_keys(['loss', 'accuracy', 'val_loss', 'val_accuracy'])"
            ]
          },
          "metadata": {},
          "execution_count": 60
        }
      ]
    },
    {
      "cell_type": "code",
      "source": [
        "import matplotlib.pyplot as plt\n",
        "\n",
        "acc = history_dict['accuracy']\n",
        "val_acc = history_dict['val_accuracy']\n",
        "loss = history_dict['loss']\n",
        "val_loss = history_dict['val_loss']\n",
        "\n",
        "epochs = range(1, len(acc) + 1)\n",
        "\n",
        "# “bo”代表 \"蓝点\"\n",
        "plt.plot(epochs, loss, 'bo', label='Training loss')\n",
        "# b代表“蓝色实线”\n",
        "plt.plot(epochs, val_loss, 'b', label='Validation loss')\n",
        "plt.title('Training and validation loss')\n",
        "plt.xlabel('Epochs')\n",
        "plt.ylabel('Loss')\n",
        "plt.legend()\n",
        "\n",
        "plt.show()"
      ],
      "metadata": {
        "colab": {
          "base_uri": "https://localhost:8080/",
          "height": 472
        },
        "id": "WQe8PJPeLnHr",
        "outputId": "f0deb787-0028-4b23-9241-903926e516cd"
      },
      "execution_count": 61,
      "outputs": [
        {
          "output_type": "display_data",
          "data": {
            "text/plain": [
              "<Figure size 640x480 with 1 Axes>"
            ],
            "image/png": "[encoded data removed]"
          },
          "metadata": {}
        }
      ]
    },
    {
      "cell_type": "code",
      "source": [
        "plt.clf()   # 清除数字\n",
        "\n",
        "plt.plot(epochs, acc, 'bo', label='Training acc')\n",
        "plt.plot(epochs, val_acc, 'b', label='Validation acc')\n",
        "plt.title('Training and validation accuracy')\n",
        "plt.xlabel('Epochs')\n",
        "plt.ylabel('Accuracy')\n",
        "plt.legend()\n",
        "\n",
        "plt.show()"
      ],
      "metadata": {
        "colab": {
          "base_uri": "https://localhost:8080/",
          "height": 472
        },
        "id": "moQokIokMZYd",
        "outputId": "c1436c06-e2dd-4dee-ee98-0ce7e5caeb39"
      },
      "execution_count": 63,
      "outputs": [
        {
          "output_type": "display_data",
          "data": {
            "text/plain": [
              "<Figure size 640x480 with 1 Axes>"
            ],
            "image/png": "[encoded data removed]"
          },
          "metadata": {}
        }
      ]
    },
    {
      "cell_type": "code",
      "source": [],
      "metadata": {
        "id": "qWYDMRJ8MoY_"
      },
      "execution_count": 45,
      "outputs": []
    }
  ]
}