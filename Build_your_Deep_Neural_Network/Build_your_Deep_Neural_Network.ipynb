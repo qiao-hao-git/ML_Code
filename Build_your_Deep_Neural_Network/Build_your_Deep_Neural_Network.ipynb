{
  "nbformat": 4,
  "nbformat_minor": 0,
  "metadata": {
    "colab": {
      "provenance": [],
      "authorship_tag": "ABX9TyN0rfAmDxkmTq2mMJdoawO2",
      "include_colab_link": true
    },
    "kernelspec": {
      "name": "python3",
      "display_name": "Python 3"
    },
    "language_info": {
      "name": "python"
    }
  },
  "cells": [
    {
      "cell_type": "markdown",
      "metadata": {
        "id": "view-in-github",
        "colab_type": "text"
      },
      "source": [
        "<a href=\"https://colab.research.google.com/github/qiao-hao-git/ML_Code/blob/main/Build_your_Deep_Neural_Network/Build_your_Deep_Neural_Network.ipynb\" target=\"_parent\"><img src=\"https://colab.research.google.com/assets/colab-badge.svg\" alt=\"Open In Colab\"/></a>"
      ]
    },
    {
      "cell_type": "code",
      "execution_count": 7,
      "metadata": {
        "colab": {
          "base_uri": "https://localhost:8080/"
        },
        "id": "htGRqiVNUXSj",
        "outputId": "fb9a90b7-90ba-4cd5-d153-1eb08c2f1edd"
      },
      "outputs": [
        {
          "output_type": "stream",
          "name": "stdout",
          "text": [
            "Drive already mounted at /content/drive; to attempt to forcibly remount, call drive.mount(\"/content/drive\", force_remount=True).\n"
          ]
        }
      ],
      "source": [
        "from google.colab import drive\n",
        "drive.mount('/content/drive')\n",
        "\n",
        "import sys\n",
        "sys.path.append('/content/drive/MyDrive/Colab Notebooks/Build your Deep Neural Network')"
      ]
    },
    {
      "cell_type": "code",
      "source": [
        "import numpy as np\n",
        "import h5py\n",
        "import matplotlib.pyplot as plt\n",
        "from testCases_v3 import *\n",
        "from dnn_utils_v2 import sigmoid,sigmoid_backward,relu,relu_backward\n",
        "from testCases_v2 import *\n",
        "\n",
        "%matplotlib inline\n",
        "plt.rcParams['figure.figsize'] = (5.0,4.0)\n",
        "plt.rcParams['image.interpolation'] = 'nearest'\n",
        "plt.rcParams['image.cmap'] = 'gray'\n",
        "\n",
        "%load_ext autoreload\n",
        "%autoreload 2\n",
        "np.random.seed(1)"
      ],
      "metadata": {
        "id": "fJ9a3Ra8V3As"
      },
      "execution_count": 8,
      "outputs": []
    },
    {
      "cell_type": "code",
      "source": [
        "def initialize_parameters(n_x,n_h,n_y):\n",
        "  np.random.seed(1)\n",
        "  W1 = np.random.randn(n_h,n_x)*0.01\n",
        "  b1 = np.zeros((n_h,1))\n",
        "  W2 = np.random.randn(n_y,n_h)*0.01\n",
        "  b2 = np.zeros((n_y,1))\n",
        "\n",
        "  assert(W1.shape==(n_h,n_x))\n",
        "  assert(b1.shape==(n_h,1))\n",
        "  assert(W2.shape==(n_y,n_h))\n",
        "  assert(b2.shape==(n_y,1))\n",
        "  parameters = {\"W1\":W1, \"b1\":b1,\n",
        "          \"W2\":W2, \"b2\":b2}\n",
        "\n",
        "  return parameters"
      ],
      "metadata": {
        "id": "IQt7lSPcW3BX"
      },
      "execution_count": 9,
      "outputs": []
    },
    {
      "cell_type": "code",
      "source": [
        "parameters = initialize_parameters(3,2,1)\n",
        "print(\"W1 = \" + str(parameters[\"W1\"]))\n",
        "print(\"b1 = \" + str(parameters[\"b1\"]))\n",
        "print(\"W2 = \" + str(parameters[\"W2\"]))\n",
        "print(\"b2 = \" + str(parameters[\"b2\"]))"
      ],
      "metadata": {
        "colab": {
          "base_uri": "https://localhost:8080/"
        },
        "id": "pRG3GEPElbuj",
        "outputId": "51e894fe-bfbe-4bb8-aff4-fdbe94deaf0b"
      },
      "execution_count": 10,
      "outputs": [
        {
          "output_type": "stream",
          "name": "stdout",
          "text": [
            "W1 = [[ 0.01624345 -0.00611756 -0.00528172]\n",
            " [-0.01072969  0.00865408 -0.02301539]]\n",
            "b1 = [[0.]\n",
            " [0.]]\n",
            "W2 = [[ 0.01744812 -0.00761207]]\n",
            "b2 = [[0.]]\n"
          ]
        }
      ]
    },
    {
      "cell_type": "markdown",
      "source": [
        "单隐藏层神经网络初始化参数"
      ],
      "metadata": {
        "id": "f3T6JkUcmP2d"
      }
    },
    {
      "cell_type": "code",
      "source": [
        "def initialize_parameters_deep(layer_dims):\n",
        "  np.random.seed(3)\n",
        "  parameters = {}\n",
        "  L = len(layer_dims)\n",
        "\n",
        "  for i in range(1,L):\n",
        "    parameters['W'+str(i)] = np.random.rand(layer_dims[i],layer_dims[i-1])*0.01\n",
        "    parameters['b'+str(i)] = np.zeros((layer_dims[i],1))\n",
        "\n",
        "    assert(parameters['W'+str(i)].shape==(layer_dims[i],layer_dims[i-1]))\n",
        "    assert(parameters['b'+str(i)].shape==(layer_dims[i],1))\n",
        "\n",
        "  return parameters"
      ],
      "metadata": {
        "id": "d1apXnetlhUk"
      },
      "execution_count": 11,
      "outputs": []
    },
    {
      "cell_type": "code",
      "source": [
        "parameters = initialize_parameters_deep([5,4,3])\n",
        "print(\"W1 = \" + str(parameters[\"W1\"]))\n",
        "print(\"b1 = \" + str(parameters[\"b1\"]))\n",
        "print(\"W2 = \" + str(parameters[\"W2\"]))\n",
        "print(\"b2 = \" + str(parameters[\"b2\"]))"
      ],
      "metadata": {
        "colab": {
          "base_uri": "https://localhost:8080/"
        },
        "id": "ZfNnAgQ4ns10",
        "outputId": "3ca0159f-a72c-46cd-bebc-58de4bcbcb9b"
      },
      "execution_count": 12,
      "outputs": [
        {
          "output_type": "stream",
          "name": "stdout",
          "text": [
            "W1 = [[0.00550798 0.00708148 0.00290905 0.00510828 0.00892947]\n",
            " [0.00896293 0.00125585 0.00207243 0.00051467 0.0044081 ]\n",
            " [0.00029876 0.00456833 0.00649144 0.00278487 0.00676255]\n",
            " [0.00590863 0.00023982 0.00558854 0.00259252 0.00415101]]\n",
            "b1 = [[0.]\n",
            " [0.]\n",
            " [0.]\n",
            " [0.]]\n",
            "W2 = [[0.00283525 0.00693138 0.00440454 0.00156868]\n",
            " [0.00544649 0.00780315 0.00306364 0.00221958]\n",
            " [0.00387971 0.00936384 0.00975995 0.00672384]]\n",
            "b2 = [[0.]\n",
            " [0.]\n",
            " [0.]]\n"
          ]
        }
      ]
    },
    {
      "cell_type": "markdown",
      "source": [
        "L层神经网络初始化参数"
      ],
      "metadata": {
        "id": "SksuKEkdn36v"
      }
    },
    {
      "cell_type": "code",
      "source": [
        "def linear_forward(A,W,b):\n",
        "  Z = np.dot(W,A)+b\n",
        "\n",
        "  assert(Z.shape==(W.shape[0],A.shape[1]))\n",
        "  cache = (A,W,b)\n",
        "\n",
        "  return Z,cache"
      ],
      "metadata": {
        "id": "-VMt9R7Pn3br"
      },
      "execution_count": 13,
      "outputs": []
    },
    {
      "cell_type": "code",
      "source": [
        "A,W,b = linear_forward_test_case()\n",
        "Z,cache = linear_forward(A,W,b)\n",
        "\n",
        "print(\"Z = \"+str(Z))"
      ],
      "metadata": {
        "colab": {
          "base_uri": "https://localhost:8080/"
        },
        "id": "_UZ7ZyqoYs3A",
        "outputId": "1d2df848-2c93-4435-a8d9-63af75ac7595"
      },
      "execution_count": 15,
      "outputs": [
        {
          "output_type": "stream",
          "name": "stdout",
          "text": [
            "Z = [[ 3.26295337 -1.23429987]]\n"
          ]
        }
      ]
    },
    {
      "cell_type": "markdown",
      "source": [
        "单隐藏层神经网络前向传播"
      ],
      "metadata": {
        "id": "qzTv-xaUclYo"
      }
    },
    {
      "cell_type": "code",
      "source": [
        "def linear_activation_forward(A_prev,W,b,activation):\n",
        "  if activation=='sigmoid':\n",
        "    Z,linear_cache = linear_forward(A_prev,W,b)\n",
        "    A,activation_cache = sigmoid(Z)\n",
        "\n",
        "  elif activation=='relu':\n",
        "    Z,linear_cache = linear_forward(A_prev,W,b)\n",
        "    A,activation_cache = relu(Z)\n",
        "\n",
        "  assert(A.shape==(W.shape[0],A_prev.shape[1]))\n",
        "  cache = (linear_cache,activation_cache)\n",
        "\n",
        "  return A,cache"
      ],
      "metadata": {
        "id": "xQJIMt7LY_f_"
      },
      "execution_count": 19,
      "outputs": []
    },
    {
      "cell_type": "code",
      "source": [
        "A_prev,W,b = linear_activation_forward_test_case()\n",
        "A,linear_activation_cache = linear_activation_forward(A_prev,W,b,activation='sigmoid')\n",
        "print(\"With sigmoid: A = \" + str(A))\n",
        "\n",
        "A,linear_activation_cache = linear_activation_forward(A_prev,W,b,activation='relu')\n",
        "print(\"With relu: A = \" + str(A))"
      ],
      "metadata": {
        "colab": {
          "base_uri": "https://localhost:8080/"
        },
        "id": "LptGqHe4cjXJ",
        "outputId": "7ab83d74-1885-4ff4-b077-44ea08f68e48"
      },
      "execution_count": 20,
      "outputs": [
        {
          "output_type": "stream",
          "name": "stdout",
          "text": [
            "With sigmoid: A = [[0.96890023 0.11013289]]\n",
            "With relu: A = [[3.43896131 0.        ]]\n"
          ]
        }
      ]
    },
    {
      "cell_type": "markdown",
      "source": [
        "单隐藏层神经网络前向传播(激活函数)"
      ],
      "metadata": {
        "id": "perAOZYIdWqn"
      }
    },
    {
      "cell_type": "code",
      "source": [
        "def L_model_forward(X,parameters):\n",
        "  caches = []\n",
        "  A = X\n",
        "  L = len(parameters)//2\n",
        "\n",
        "  for i in range(1,L):\n",
        "    A_prev = A\n",
        "    A,cache = linear_activation_forward(A_prev,parameters['W'+str(i)],parameters['b'+str(i)],activation='relu')\n",
        "    caches.append(cache)\n",
        "\n",
        "  AL,cache = linear_activation_forward(A,parameters['W'+str(L)],parameters['b'+str(L)],activation='sigmoid')\n",
        "  caches.append(cache)\n",
        "\n",
        "  assert(AL.shape==(1,X.shape[1]))\n",
        "\n",
        "  return AL,caches"
      ],
      "metadata": {
        "id": "GQbwCnNQdI8y"
      },
      "execution_count": 32,
      "outputs": []
    },
    {
      "cell_type": "code",
      "source": [
        "X,parameters = L_model_forward_test_case_2hidden()\n",
        "AL,caches = L_model_forward(X,parameters)\n",
        "\n",
        "print(\"AL = \" + str(AL))\n",
        "print(\"Length of caches list = \" + str(len(caches)))"
      ],
      "metadata": {
        "colab": {
          "base_uri": "https://localhost:8080/"
        },
        "id": "19HdoK-JgA6N",
        "outputId": "d7c6bf43-6297-4505-9193-79a86d2d6600"
      },
      "execution_count": 33,
      "outputs": [
        {
          "output_type": "stream",
          "name": "stdout",
          "text": [
            "AL = [[0.03921668 0.70498921 0.19734387 0.04728177]]\n",
            "Length of caches list = 3\n"
          ]
        }
      ]
    },
    {
      "cell_type": "markdown",
      "source": [
        "L层神经网络的前向传播"
      ],
      "metadata": {
        "id": "nVq3nZIJgTzj"
      }
    },
    {
      "cell_type": "code",
      "source": [
        "def compute_cost(AL,Y):\n",
        "  m = Y.shape[1]\n",
        "\n",
        "  print(Y.shape,m)\n",
        "  cost = -(np.dot(np.log(AL),Y.T)+np.dot(np.log(1-AL),1-Y.T))/m\n",
        "  print(cost)\n",
        "\n",
        "  cost = np.squeeze(cost)\n",
        "\n",
        "  assert(cost.shape==())\n",
        "\n",
        "  return cost"
      ],
      "metadata": {
        "id": "nepNRSrRgQxV"
      },
      "execution_count": 43,
      "outputs": []
    },
    {
      "cell_type": "code",
      "source": [
        "Y,AL = compute_cost_test_case()\n",
        "print(\"cost = \" + str(compute_cost(AL,Y)))"
      ],
      "metadata": {
        "colab": {
          "base_uri": "https://localhost:8080/"
        },
        "id": "orjNnyMJix0o",
        "outputId": "9e6413d3-5a2b-44cd-da3a-888e9db34298"
      },
      "execution_count": 44,
      "outputs": [
        {
          "output_type": "stream",
          "name": "stdout",
          "text": [
            "(1, 3) 3\n",
            "[[0.4149316]]\n",
            "cost = 0.414931599615397\n"
          ]
        }
      ]
    },
    {
      "cell_type": "markdown",
      "source": [
        "计算损失"
      ],
      "metadata": {
        "id": "vOdaRJinjC1W"
      }
    },
    {
      "cell_type": "code",
      "source": [
        "def linear_backward(dZ,cache):\n",
        "  A_prev,W,b = cache\n",
        "  m = A_prev.shape[1]\n",
        "\n",
        "  dW = np.dot(dZ,A_prev.T)/m\n",
        "  db = np.sum(dZ,axis=1,keepdims=True)\n",
        "  dA_prev = np.dot(W.T,dZ)\n",
        "\n",
        "  assert(dA_prev.shape==A_prev.shape)\n",
        "  assert(dW.shape==W.shape)\n",
        "  assert(db.shape==b.shape)\n",
        "\n",
        "  return dA_prev,dW,db"
      ],
      "metadata": {
        "id": "BgDGtgppjB51"
      },
      "execution_count": 45,
      "outputs": []
    },
    {
      "cell_type": "code",
      "source": [
        "dZ,linear_cache = linear_backward_test_case()\n",
        "dA_prev,dW,db = linear_backward(dZ,linear_cache)\n",
        "\n",
        "print(\"dA_prev = \"+ str(dA_prev))\n",
        "print(\"dW = \" + str(dW))\n",
        "print(\"db = \" + str(db))"
      ],
      "metadata": {
        "colab": {
          "base_uri": "https://localhost:8080/"
        },
        "id": "ZXRTYft8m8c8",
        "outputId": "05fa2711-10ca-494d-89da-ea877f2056ef"
      },
      "execution_count": 47,
      "outputs": [
        {
          "output_type": "stream",
          "name": "stdout",
          "text": [
            "dA_prev = [[ 0.51822968 -0.19517421]\n",
            " [-0.40506361  0.15255393]\n",
            " [ 2.37496825 -0.89445391]]\n",
            "dW = [[-0.10076895  1.40685096  1.64992505]]\n",
            "db = [[1.01258895]]\n"
          ]
        }
      ]
    },
    {
      "cell_type": "markdown",
      "source": [
        "单隐藏层反向传播"
      ],
      "metadata": {
        "id": "1Csg03eLnPVJ"
      }
    },
    {
      "cell_type": "code",
      "source": [
        "def linear_activation_backward(dA,cache,activation):\n",
        "  linear_cache,activation_cache = cache\n",
        "  if activation=='relu':\n",
        "    dZ = relu_backward(dA,activation_cache)\n",
        "    dA_prev,dW,db = linear_backward(dZ,linear_cache)\n",
        "  elif activation=='sigmoid':\n",
        "    dZ = sigmoid_backward(dA,activation_cache)\n",
        "    dA_prev,dW,db = linear_backward(dZ,linear_cache)\n",
        "\n",
        "  return dA_prev,dW,db"
      ],
      "metadata": {
        "id": "GgaIZesqnKhD"
      },
      "execution_count": 49,
      "outputs": []
    },
    {
      "cell_type": "code",
      "source": [
        "AL,linear_activation_cache = linear_activation_backward_test_case()\n",
        "\n",
        "dA_prev,dW,db = linear_activation_backward(AL, linear_activation_cache, activation = \"sigmoid\")\n",
        "print(\"sigmoid:\")\n",
        "print(\"dA_prev = \"+ str(dA_prev))\n",
        "print(\"dW = \" + str(dW))\n",
        "print(\"db = \" + str(db) + \"\\n\")\n",
        "\n",
        "dA_prev,dW,db = linear_activation_backward(AL, linear_activation_cache, activation = \"relu\")\n",
        "print(\"relu:\")\n",
        "print(\"dA_prev = \"+ str(dA_prev))\n",
        "print(\"dW = \" + str(dW))\n",
        "print(\"db = \" + str(db))"
      ],
      "metadata": {
        "colab": {
          "base_uri": "https://localhost:8080/"
        },
        "id": "ZrHyP_Kgn18V",
        "outputId": "af90b7fa-6629-44a2-ca28-10cfcce9cdf3"
      },
      "execution_count": 50,
      "outputs": [
        {
          "output_type": "stream",
          "name": "stdout",
          "text": [
            "sigmoid:\n",
            "dA_prev = [[ 0.11017994  0.01105339]\n",
            " [ 0.09466817  0.00949723]\n",
            " [-0.05743092 -0.00576154]]\n",
            "dW = [[ 0.10266786  0.09778551 -0.01968084]]\n",
            "db = [[-0.11459244]]\n",
            "\n",
            "relu:\n",
            "dA_prev = [[ 0.44090989  0.        ]\n",
            " [ 0.37883606  0.        ]\n",
            " [-0.2298228   0.        ]]\n",
            "dW = [[ 0.44513824  0.37371418 -0.10478989]]\n",
            "db = [[-0.41675785]]\n"
          ]
        }
      ]
    },
    {
      "cell_type": "markdown",
      "source": [
        "单隐藏层反向传播(激活函数)"
      ],
      "metadata": {
        "id": "rOUC8ckloqHY"
      }
    },
    {
      "cell_type": "code",
      "source": [
        "def L_model_backward(AL,Y,caches):\n",
        "  grads = {}\n",
        "  L = len(caches)\n",
        "  m = AL.shape[1]\n",
        "  Y = Y.reshape(AL.shape)\n",
        "\n",
        "  dAL = -(np.divide(Y,AL)-np.divide(1-Y,1-AL))\n",
        "\n",
        "  current_cache = caches[L-1]\n",
        "  grads[\"dA\"+str(L)],grads[\"dW\"+str(L)],grads[\"db\"+str(L)] = linear_activation_backward(dAL,current_cache,activation='sigmoid')\n",
        "\n",
        "  for i in reversed(range(L-1)):\n",
        "    current_cache = caches[i]\n",
        "    dA_prev_temp,dW_temp,db_temp = linear_activation_backward(grads[\"dA\"+str(i+2)],current_cache,activation='relu')\n",
        "    grads[\"dA\"+str(i+1)] = dA_prev_temp\n",
        "    grads[\"dW\"+str(i+1)] = dW_temp\n",
        "    grads[\"db\"+str(i+1)] = db_temp\n",
        "\n",
        "  return grads"
      ],
      "metadata": {
        "id": "aYueAMemopEn"
      },
      "execution_count": 53,
      "outputs": []
    },
    {
      "cell_type": "code",
      "source": [
        "AL, Y_assess, caches = L_model_backward_test_case()\n",
        "grads = L_model_backward(AL, Y_assess, caches)\n",
        "print_grads(grads)"
      ],
      "metadata": {
        "colab": {
          "base_uri": "https://localhost:8080/"
        },
        "id": "GAlxIVMIqD2A",
        "outputId": "f179c451-189e-4a36-a28d-c363630a2742"
      },
      "execution_count": 54,
      "outputs": [
        {
          "output_type": "stream",
          "name": "stdout",
          "text": [
            "dW1 = [[0.41010002 0.07807203 0.13798444 0.10502167]\n",
            " [0.         0.         0.         0.        ]\n",
            " [0.05283652 0.01005865 0.01777766 0.0135308 ]]\n",
            "db1 = [[-0.44014127]\n",
            " [ 0.        ]\n",
            " [-0.05670698]]\n",
            "dA1 = [[ 0.12913162 -0.44014127]\n",
            " [-0.14175655  0.48317296]\n",
            " [ 0.01663708 -0.05670698]]\n"
          ]
        }
      ]
    },
    {
      "cell_type": "markdown",
      "source": [
        "L层神经网络反向传播"
      ],
      "metadata": {
        "id": "sfBqFn0Ar8Ld"
      }
    },
    {
      "cell_type": "code",
      "source": [
        "def update_parameters(parameters,grads,learning_rate):\n",
        "  L = len(parameters)//2\n",
        "  for i in range(1,L+1):\n",
        "    parameters[\"W\"+str(i)] = parameters[\"W\"+str(i)]-grads[\"dW\"+str(i)]*learning_rate\n",
        "    parameters[\"b\"+str(i)] = parameters[\"b\"+str(i)]-grads[\"db\"+str(i)]*learning_rate\n",
        "\n",
        "  return parameters"
      ],
      "metadata": {
        "id": "R_PDQv_GqIwq"
      },
      "execution_count": 58,
      "outputs": []
    },
    {
      "cell_type": "code",
      "source": [
        "parameters,grads = update_parameters_test_case()\n",
        "parameters = update_parameters(parameters,grads,0.1)\n",
        "\n",
        "print(\"W1 = \"+ str(parameters[\"W1\"]))\n",
        "print(\"b1 = \"+ str(parameters[\"b1\"]))\n",
        "print(\"W2 = \"+ str(parameters[\"W2\"]))\n",
        "print(\"b2 = \"+ str(parameters[\"b2\"]))"
      ],
      "metadata": {
        "colab": {
          "base_uri": "https://localhost:8080/"
        },
        "id": "ChG6qdvlusX3",
        "outputId": "e9ce1066-4567-4dfa-c85d-81c9554dc513"
      },
      "execution_count": 59,
      "outputs": [
        {
          "output_type": "stream",
          "name": "stdout",
          "text": [
            "W1 = [[-0.59562069 -0.09991781 -2.14584584  1.82662008]\n",
            " [-1.76569676 -0.80627147  0.51115557 -1.18258802]\n",
            " [-1.0535704  -0.86128581  0.68284052  2.20374577]]\n",
            "b1 = [[-0.04659241]\n",
            " [-1.28888275]\n",
            " [ 0.53405496]]\n",
            "W2 = [[-0.55569196  0.0354055   1.32964895]]\n",
            "b2 = [[-0.84610769]]\n"
          ]
        }
      ]
    },
    {
      "cell_type": "markdown",
      "source": [
        "L层神经网络更新参数"
      ],
      "metadata": {
        "id": "W9Vc14SxvCQL"
      }
    },
    {
      "cell_type": "code",
      "source": [],
      "metadata": {
        "id": "UtMBpxAVu8uz"
      },
      "execution_count": null,
      "outputs": []
    }
  ]
}