{
  "nbformat": 4,
  "nbformat_minor": 0,
  "metadata": {
    "colab": {
      "provenance": [],
      "authorship_tag": "ABX9TyNdfhuFiT9cpUCYtgDZ6TS9",
      "include_colab_link": true
    },
    "kernelspec": {
      "name": "python3",
      "display_name": "Python 3"
    },
    "language_info": {
      "name": "python"
    }
  },
  "cells": [
    {
      "cell_type": "markdown",
      "metadata": {
        "id": "view-in-github",
        "colab_type": "text"
      },
      "source": [
        "<a href=\"https://colab.research.google.com/github/qiao-hao-git/ML_Code/blob/main/%E7%AE%80%E5%8D%95%E7%BA%BF%E6%80%A7%E5%9B%9E%E5%BD%92.ipynb\" target=\"_parent\"><img src=\"https://colab.research.google.com/assets/colab-badge.svg\" alt=\"Open In Colab\"/></a>"
      ]
    },
    {
      "cell_type": "code",
      "execution_count": 3,
      "metadata": {
        "colab": {
          "base_uri": "https://localhost:8080/"
        },
        "id": "RWXDqLi3EGdC",
        "outputId": "0d9e6874-bdef-4f40-ef4f-7c7757354d54"
      },
      "outputs": [
        {
          "output_type": "stream",
          "name": "stdout",
          "text": [
            "[[2.5]\n",
            " [5.1]\n",
            " [3.2]\n",
            " [8.5]\n",
            " [3.5]\n",
            " [1.5]\n",
            " [9.2]\n",
            " [5.5]\n",
            " [8.3]\n",
            " [2.7]\n",
            " [7.7]\n",
            " [5.9]\n",
            " [4.5]\n",
            " [3.3]\n",
            " [1.1]\n",
            " [8.9]\n",
            " [2.5]\n",
            " [1.9]\n",
            " [6.1]\n",
            " [7.4]\n",
            " [2.7]\n",
            " [4.8]\n",
            " [3.8]\n",
            " [6.9]\n",
            " [7.8]\n",
            " [2.1]\n",
            " [2.2]\n",
            " [2.5]]\n",
            "[21 47 27 75 30 20 88 60 81 25 85 62 41 42 17 95 30 24 67 69 30 54 35 76\n",
            " 86 93 93 93]\n",
            "[[3.3]\n",
            " [2.7]\n",
            " [2.1]\n",
            " [2.5]\n",
            " [5.1]\n",
            " [7.7]\n",
            " [2.5]\n",
            " [2.2]\n",
            " [8.3]\n",
            " [9.2]\n",
            " [3.5]\n",
            " [6.1]\n",
            " [7.4]\n",
            " [2.7]\n",
            " [5.5]\n",
            " [6.9]\n",
            " [8.5]\n",
            " [2.5]\n",
            " [4.8]\n",
            " [8.9]\n",
            " [4.5]]\n",
            "[[3.2]\n",
            " [3.8]\n",
            " [1.1]\n",
            " [1.9]\n",
            " [1.5]\n",
            " [5.9]\n",
            " [7.8]]\n",
            "[42 30 93 30 47 85 93 93 81 88 30 67 69 25 60 76 75 21 54 95 41]\n",
            "[27 35 17 24 20 62 86]\n"
          ]
        }
      ],
      "source": [
        "#数据预处理\n",
        "import pandas as pd\n",
        "import numpy as np\n",
        "import matplotlib.pyplot as plt\n",
        "\n",
        "dataset = pd.read_csv(\"/content/sample_data/studentscores.csv\")\n",
        "X = dataset.iloc[:,:1].values\n",
        "Y = dataset.iloc[:,1].values\n",
        "print(X)\n",
        "print(Y)\n",
        "\n",
        "from sklearn.model_selection import train_test_split\n",
        "X_train,X_test,Y_train,Y_test = train_test_split(X,Y,test_size=0.25,random_state=0)\n",
        "print(X_train)\n",
        "print(X_test)\n",
        "print(Y_train)\n",
        "print(Y_test)"
      ]
    },
    {
      "cell_type": "code",
      "source": [
        "#训练集使用简单线性回归模型来训练\n",
        "from sklearn.linear_model import LinearRegression\n",
        "regressor = LinearRegression()\n",
        "regressor = regressor.fit(X_train,Y_train)\n",
        "print(regressor)"
      ],
      "metadata": {
        "colab": {
          "base_uri": "https://localhost:8080/"
        },
        "id": "rziugiI_Gqdy",
        "outputId": "6d0ae720-e814-4ef0-8a6d-170c368dde2b"
      },
      "execution_count": 4,
      "outputs": [
        {
          "output_type": "stream",
          "name": "stdout",
          "text": [
            "LinearRegression()\n"
          ]
        }
      ]
    },
    {
      "cell_type": "code",
      "source": [
        "#预测结果\n",
        "Y_pred = regressor.predict(X_test)\n",
        "print(Y_pred)"
      ],
      "metadata": {
        "colab": {
          "base_uri": "https://localhost:8080/"
        },
        "id": "Jcx8hzgTJdRY",
        "outputId": "0eef4107-74a8-4c20-bbab-981d1a8fc170"
      },
      "execution_count": 5,
      "outputs": [
        {
          "output_type": "stream",
          "name": "stdout",
          "text": [
            "[52.0396552  55.09507949 41.34567017 45.41956923 43.3826197  65.78906452\n",
            " 75.46457479]\n"
          ]
        }
      ]
    },
    {
      "cell_type": "code",
      "source": [
        "#可视化\n",
        "\n",
        "#训练集结果可视化\n",
        "plt.scatter(X_train,Y_train,color='red')\n",
        "plt.plot(X_train,regressor.predict(X_train),color='blue')\n",
        "plt.show()"
      ],
      "metadata": {
        "colab": {
          "base_uri": "https://localhost:8080/",
          "height": 430
        },
        "id": "z5jf8_NLJtIM",
        "outputId": "2b500a26-fe9f-41b5-92bb-0e2c2add1563"
      },
      "execution_count": 7,
      "outputs": [
        {
          "output_type": "display_data",
          "data": {
            "text/plain": [
              "<Figure size 640x480 with 1 Axes>"
            ],
            "image/png": "[encoded data removed]"
          },
          "metadata": {}
        }
      ]
    },
    {
      "cell_type": "code",
      "source": [
        "#测试集结果可视化\n",
        "plt.scatter(X_test,Y_test,color='red')\n",
        "plt.plot(X_test,regressor.predict(X_test),color='blue')\n",
        "plt.show()"
      ],
      "metadata": {
        "colab": {
          "base_uri": "https://localhost:8080/",
          "height": 430
        },
        "id": "6nMTuIrPKHLN",
        "outputId": "eb67127d-60ae-4962-a54a-a0fe6f7f24e7"
      },
      "execution_count": 8,
      "outputs": [
        {
          "output_type": "display_data",
          "data": {
            "text/plain": [
              "<Figure size 640x480 with 1 Axes>"
            ],
            "image/png": "[encoded data removed]"
          },
          "metadata": {}
        }
      ]
    }
  ]
}