{
  "nbformat": 4,
  "nbformat_minor": 0,
  "metadata": {
    "colab": {
      "provenance": [],
      "authorship_tag": "ABX9TyOpNs4ZwMW5cjLAMx13m6nu",
      "include_colab_link": true
    },
    "kernelspec": {
      "name": "python3",
      "display_name": "Python 3"
    },
    "language_info": {
      "name": "python"
    }
  },
  "cells": [
    {
      "cell_type": "markdown",
      "metadata": {
        "id": "view-in-github",
        "colab_type": "text"
      },
      "source": [
        "<a href=\"https://colab.research.google.com/github/qiao-hao-git/ML_Code/blob/main/Mnist_Network/Mnist_Network.ipynb\" target=\"_parent\"><img src=\"https://colab.research.google.com/assets/colab-badge.svg\" alt=\"Open In Colab\"/></a>"
      ]
    },
    {
      "cell_type": "code",
      "execution_count": 35,
      "metadata": {
        "id": "Lnm4y9o_XNao"
      },
      "outputs": [],
      "source": [
        "from numpy.lib.function_base import vectorize\n",
        "import pickle\n",
        "import gzip\n",
        "import numpy as np\n",
        "\n",
        "def vectorized_result(j):\n",
        "  e = np.zeros((10,1))\n",
        "  e[j] = 1.0\n",
        "  return e\n",
        "\n",
        "def load_data():\n",
        "  f = gzip.open('/content/sample_data/mnist.pkl.gz','rb')\n",
        "  training_data,validation_data,test_data = pickle.load(f,encoding='bytes')\n",
        "  f.close()\n",
        "  return (training_data,validation_data,test_data)\n",
        "\n",
        "def load_data_wrapper():\n",
        "  tr_d,va_d,te_d = load_data()\n",
        "  training_inputs = [np.reshape(x,(784,1)) for x in tr_d[0]]\n",
        "  training_results = [vectorized_result(y) for y in tr_d[1]]\n",
        "  training_data = list(zip(training_inputs,training_results))\n",
        "  validation_inputs = [np.reshape(x,(784,1)) for x in va_d[0]]\n",
        "  validation_data = list(zip(validation_inputs,va_d[1]))\n",
        "  test_inputs = [np.reshape(x,(784,1)) for x in te_d[0]]\n",
        "  test_data =  list(zip(test_inputs,te_d[1]))\n",
        "  return (training_data,validation_data,test_data)"
      ]
    },
    {
      "cell_type": "code",
      "source": [
        "import numpy as np\n",
        "import random\n",
        "\n",
        "\n",
        "def sigmoid(z):\n",
        "  return 1.0/(1.0+np.exp(-z))\n",
        "\n",
        "def sigmoid_prime(z):\n",
        "  return sigmoid(z)*(1-sigmoid(z))\n",
        "\n",
        "class Network(object):\n",
        "\n",
        "  def __init__(self,sizes):\n",
        "    self.num_layers = len(sizes)\n",
        "    self.sizes = sizes\n",
        "    self.biases = [np.random.randn(y,1) for y in sizes[1:]]\n",
        "    self.weights = [np.random.randn(y,x) for x,y in zip(sizes[:-1],sizes[1:])]\n",
        "\n",
        "  def feedforward(self,a):\n",
        "    for b,w in zip(self.biases,self.weights):\n",
        "      a = sigmoid(np.dot(w,a)+b)\n",
        "    return a\n",
        "\n",
        "  def SGD(self,training_data,epochs,mini_batch_size,eta,test_data=None):\n",
        "    if test_data:\n",
        "      n_test = len(test_data)\n",
        "    n = len(training_data)\n",
        "    for j in range(epochs):\n",
        "      random.shuffle(training_data)\n",
        "      mini_batches = [training_data[k:k+mini_batch_size] for k in range(0,n,mini_batch_size)]\n",
        "      for mini_batch in mini_batches:\n",
        "        self.update_mini_batch(mini_batch,eta)\n",
        "      if test_data:\n",
        "        print(\"Epoch {0}: {1} / {2}\".format(j,self.evaluate(test_data),n_test))\n",
        "      else:\n",
        "        print(\"Epoch {0} complete\".format(j))\n",
        "\n",
        "  def update_mini_batch(self,mini_batch,eta):\n",
        "    nabla_b = [np.zeros(b.shape) for b in self.biases]\n",
        "    nabla_w = [np.zeros(w.shape) for w in self.weights]\n",
        "\n",
        "    for x,y in mini_batch:\n",
        "      delta_nabla_b,delta_nabla_w = self.backprop(x,y)\n",
        "      nabla_b = [nb+dnb for nb,dnb in zip(nabla_b,delta_nabla_b)]\n",
        "      nabla_w = [nw+dnw for nw,dnw in zip(nabla_w,delta_nabla_w)]\n",
        "\n",
        "    self.weights = [w-(eta/len(mini_batch))*nw for w,nw in zip(self.weights,nabla_w)]\n",
        "    self.biases = [b-(eta/len(mini_batch))*nb for b,nb in zip(self.biases,nabla_b)]\n",
        "\n",
        "  def backprop(self,x,y):\n",
        "    nabla_b = [np.zeros(b.shape) for b in self.biases]\n",
        "    nabla_w = [np.zeros(w.shape) for w in self.weights]\n",
        "\n",
        "    activation = x\n",
        "    activations = [x]\n",
        "    zs = []\n",
        "    for b,w in zip(self.biases,self.weights):\n",
        "      z = np.dot(w,activation)+b\n",
        "      zs.append(z)\n",
        "      activation = sigmoid(z)\n",
        "      activations.append(activation)\n",
        "    delta = self.cost_derivative(activations[-1],y)*sigmoid_prime(zs[-1])\n",
        "    nabla_b[-1] = delta\n",
        "    nabla_w[-1] = np.dot(delta,activations[-2].transpose())\n",
        "    for l in range(2,self.num_layers):\n",
        "      z = zs[-l]\n",
        "      sp = sigmoid_prime(z)\n",
        "      delta = np.dot(self.weights[-l+1].transpose(),delta)*sp\n",
        "      nabla_b[-l] = delta\n",
        "      nabla_w[-l] = np.dot(delta,activations[-l-1].transpose())\n",
        "    return (nabla_b,nabla_w)\n",
        "\n",
        "  def evaluate(self,test_data):\n",
        "    test_resluts = [(np.argmax(self.feedforward(x)),y) for (x,y) in test_data]\n",
        "    return sum(int(x==y) for (x,y) in test_resluts)\n",
        "\n",
        "  def cost_derivative(self,output_activations,y):\n",
        "    return (output_activations-y)"
      ],
      "metadata": {
        "id": "uCqD-b3OefA4"
      },
      "execution_count": 47,
      "outputs": []
    },
    {
      "cell_type": "code",
      "source": [
        "training_data,validation_data,test_data = load_data_wrapper()\n",
        "net = Network([784,30,10])\n",
        "net.SGD(training_data,30,10,3.0,test_data=test_data)"
      ],
      "metadata": {
        "colab": {
          "base_uri": "https://localhost:8080/"
        },
        "id": "RTHlSAZvt9bP",
        "outputId": "c8a37c80-e5d8-4af4-848f-7bcdb3a375c3"
      },
      "execution_count": 49,
      "outputs": [
        {
          "output_type": "stream",
          "name": "stdout",
          "text": [
            "Epoch 0: 9021 / 10000\n",
            "Epoch 1: 9201 / 10000\n",
            "Epoch 2: 9280 / 10000\n",
            "Epoch 3: 9300 / 10000\n",
            "Epoch 4: 9339 / 10000\n",
            "Epoch 5: 9342 / 10000\n",
            "Epoch 6: 9382 / 10000\n",
            "Epoch 7: 9407 / 10000\n",
            "Epoch 8: 9397 / 10000\n",
            "Epoch 9: 9394 / 10000\n",
            "Epoch 10: 9458 / 10000\n",
            "Epoch 11: 9438 / 10000\n",
            "Epoch 12: 9451 / 10000\n",
            "Epoch 13: 9466 / 10000\n",
            "Epoch 14: 9460 / 10000\n",
            "Epoch 15: 9467 / 10000\n",
            "Epoch 16: 9461 / 10000\n",
            "Epoch 17: 9475 / 10000\n",
            "Epoch 18: 9471 / 10000\n",
            "Epoch 19: 9471 / 10000\n",
            "Epoch 20: 9452 / 10000\n",
            "Epoch 21: 9485 / 10000\n",
            "Epoch 22: 9483 / 10000\n",
            "Epoch 23: 9471 / 10000\n",
            "Epoch 24: 9469 / 10000\n",
            "Epoch 25: 9498 / 10000\n",
            "Epoch 26: 9492 / 10000\n",
            "Epoch 27: 9469 / 10000\n",
            "Epoch 28: 9494 / 10000\n",
            "Epoch 29: 9477 / 10000\n"
          ]
        }
      ]
    }
  ]
}